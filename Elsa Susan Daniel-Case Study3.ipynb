{
 "cells": [
  {
   "cell_type": "code",
   "execution_count": 1,
   "id": "f4f89024",
   "metadata": {},
   "outputs": [],
   "source": [
    "# Importing Modules\n",
    "import numpy as np\n",
    "import pandas as pd\n",
    "import matplotlib.pyplot as plt\n",
    "import seaborn as sns"
   ]
  },
  {
   "cell_type": "code",
   "execution_count": 2,
   "id": "0ab88333",
   "metadata": {},
   "outputs": [],
   "source": [
    "# Loading the dataset\n",
    "data=pd.read_csv('Wine_clust.csv')"
   ]
  },
  {
   "cell_type": "code",
   "execution_count": 3,
   "id": "48c70d82",
   "metadata": {},
   "outputs": [
    {
     "data": {
      "text/html": [
       "<div>\n",
       "<style scoped>\n",
       "    .dataframe tbody tr th:only-of-type {\n",
       "        vertical-align: middle;\n",
       "    }\n",
       "\n",
       "    .dataframe tbody tr th {\n",
       "        vertical-align: top;\n",
       "    }\n",
       "\n",
       "    .dataframe thead th {\n",
       "        text-align: right;\n",
       "    }\n",
       "</style>\n",
       "<table border=\"1\" class=\"dataframe\">\n",
       "  <thead>\n",
       "    <tr style=\"text-align: right;\">\n",
       "      <th></th>\n",
       "      <th>Alcohol</th>\n",
       "      <th>Malic_Acid</th>\n",
       "      <th>Ash</th>\n",
       "      <th>Ash_Alcanity</th>\n",
       "      <th>Magnesium</th>\n",
       "      <th>Total_Phenols</th>\n",
       "      <th>Flavanoids</th>\n",
       "      <th>Nonflavanoid_Phenols</th>\n",
       "      <th>Proanthocyanins</th>\n",
       "      <th>Color_Intensity</th>\n",
       "      <th>Hue</th>\n",
       "      <th>OD280</th>\n",
       "      <th>Proline</th>\n",
       "    </tr>\n",
       "  </thead>\n",
       "  <tbody>\n",
       "    <tr>\n",
       "      <th>0</th>\n",
       "      <td>14.23</td>\n",
       "      <td>1.71</td>\n",
       "      <td>2.43</td>\n",
       "      <td>15.6</td>\n",
       "      <td>127</td>\n",
       "      <td>2.80</td>\n",
       "      <td>3.06</td>\n",
       "      <td>0.28</td>\n",
       "      <td>2.29</td>\n",
       "      <td>5.64</td>\n",
       "      <td>1.04</td>\n",
       "      <td>3.92</td>\n",
       "      <td>1065</td>\n",
       "    </tr>\n",
       "    <tr>\n",
       "      <th>1</th>\n",
       "      <td>13.20</td>\n",
       "      <td>1.78</td>\n",
       "      <td>2.14</td>\n",
       "      <td>11.2</td>\n",
       "      <td>100</td>\n",
       "      <td>2.65</td>\n",
       "      <td>2.76</td>\n",
       "      <td>0.26</td>\n",
       "      <td>1.28</td>\n",
       "      <td>4.38</td>\n",
       "      <td>1.05</td>\n",
       "      <td>3.40</td>\n",
       "      <td>1050</td>\n",
       "    </tr>\n",
       "    <tr>\n",
       "      <th>2</th>\n",
       "      <td>13.16</td>\n",
       "      <td>2.36</td>\n",
       "      <td>2.67</td>\n",
       "      <td>18.6</td>\n",
       "      <td>101</td>\n",
       "      <td>2.80</td>\n",
       "      <td>3.24</td>\n",
       "      <td>0.30</td>\n",
       "      <td>2.81</td>\n",
       "      <td>5.68</td>\n",
       "      <td>1.03</td>\n",
       "      <td>3.17</td>\n",
       "      <td>1185</td>\n",
       "    </tr>\n",
       "    <tr>\n",
       "      <th>3</th>\n",
       "      <td>14.37</td>\n",
       "      <td>1.95</td>\n",
       "      <td>2.50</td>\n",
       "      <td>16.8</td>\n",
       "      <td>113</td>\n",
       "      <td>3.85</td>\n",
       "      <td>3.49</td>\n",
       "      <td>0.24</td>\n",
       "      <td>2.18</td>\n",
       "      <td>7.80</td>\n",
       "      <td>0.86</td>\n",
       "      <td>3.45</td>\n",
       "      <td>1480</td>\n",
       "    </tr>\n",
       "    <tr>\n",
       "      <th>4</th>\n",
       "      <td>13.24</td>\n",
       "      <td>2.59</td>\n",
       "      <td>2.87</td>\n",
       "      <td>21.0</td>\n",
       "      <td>118</td>\n",
       "      <td>2.80</td>\n",
       "      <td>2.69</td>\n",
       "      <td>0.39</td>\n",
       "      <td>1.82</td>\n",
       "      <td>4.32</td>\n",
       "      <td>1.04</td>\n",
       "      <td>2.93</td>\n",
       "      <td>735</td>\n",
       "    </tr>\n",
       "  </tbody>\n",
       "</table>\n",
       "</div>"
      ],
      "text/plain": [
       "   Alcohol  Malic_Acid   Ash  Ash_Alcanity  Magnesium  Total_Phenols  \\\n",
       "0    14.23        1.71  2.43          15.6        127           2.80   \n",
       "1    13.20        1.78  2.14          11.2        100           2.65   \n",
       "2    13.16        2.36  2.67          18.6        101           2.80   \n",
       "3    14.37        1.95  2.50          16.8        113           3.85   \n",
       "4    13.24        2.59  2.87          21.0        118           2.80   \n",
       "\n",
       "   Flavanoids  Nonflavanoid_Phenols  Proanthocyanins  Color_Intensity   Hue  \\\n",
       "0        3.06                  0.28             2.29             5.64  1.04   \n",
       "1        2.76                  0.26             1.28             4.38  1.05   \n",
       "2        3.24                  0.30             2.81             5.68  1.03   \n",
       "3        3.49                  0.24             2.18             7.80  0.86   \n",
       "4        2.69                  0.39             1.82             4.32  1.04   \n",
       "\n",
       "   OD280  Proline  \n",
       "0   3.92     1065  \n",
       "1   3.40     1050  \n",
       "2   3.17     1185  \n",
       "3   3.45     1480  \n",
       "4   2.93      735  "
      ]
     },
     "execution_count": 3,
     "metadata": {},
     "output_type": "execute_result"
    }
   ],
   "source": [
    "data.head()"
   ]
  },
  {
   "cell_type": "code",
   "execution_count": 4,
   "id": "7f1471ce",
   "metadata": {},
   "outputs": [
    {
     "data": {
      "text/plain": [
       "(178, 13)"
      ]
     },
     "execution_count": 4,
     "metadata": {},
     "output_type": "execute_result"
    }
   ],
   "source": [
    "#checking the rows and columns\n",
    "data.shape"
   ]
  },
  {
   "cell_type": "code",
   "execution_count": 5,
   "id": "5baea9e3",
   "metadata": {},
   "outputs": [
    {
     "data": {
      "text/plain": [
       "Alcohol                 0\n",
       "Malic_Acid              0\n",
       "Ash                     0\n",
       "Ash_Alcanity            0\n",
       "Magnesium               0\n",
       "Total_Phenols           0\n",
       "Flavanoids              0\n",
       "Nonflavanoid_Phenols    0\n",
       "Proanthocyanins         0\n",
       "Color_Intensity         0\n",
       "Hue                     0\n",
       "OD280                   0\n",
       "Proline                 0\n",
       "dtype: int64"
      ]
     },
     "execution_count": 5,
     "metadata": {},
     "output_type": "execute_result"
    }
   ],
   "source": [
    "#checking the null values\n",
    "data.isna().sum()"
   ]
  },
  {
   "cell_type": "code",
   "execution_count": 6,
   "id": "a1a55870",
   "metadata": {},
   "outputs": [
    {
     "name": "stdout",
     "output_type": "stream",
     "text": [
      "<class 'pandas.core.frame.DataFrame'>\n",
      "RangeIndex: 178 entries, 0 to 177\n",
      "Data columns (total 13 columns):\n",
      " #   Column                Non-Null Count  Dtype  \n",
      "---  ------                --------------  -----  \n",
      " 0   Alcohol               178 non-null    float64\n",
      " 1   Malic_Acid            178 non-null    float64\n",
      " 2   Ash                   178 non-null    float64\n",
      " 3   Ash_Alcanity          178 non-null    float64\n",
      " 4   Magnesium             178 non-null    int64  \n",
      " 5   Total_Phenols         178 non-null    float64\n",
      " 6   Flavanoids            178 non-null    float64\n",
      " 7   Nonflavanoid_Phenols  178 non-null    float64\n",
      " 8   Proanthocyanins       178 non-null    float64\n",
      " 9   Color_Intensity       178 non-null    float64\n",
      " 10  Hue                   178 non-null    float64\n",
      " 11  OD280                 178 non-null    float64\n",
      " 12  Proline               178 non-null    int64  \n",
      "dtypes: float64(11), int64(2)\n",
      "memory usage: 18.2 KB\n"
     ]
    }
   ],
   "source": [
    "#check the basic informations about the dataset\n",
    "data.info()"
   ]
  },
  {
   "cell_type": "markdown",
   "id": "8a56a925",
   "metadata": {},
   "source": [
    "## kMeans Clustering "
   ]
  },
  {
   "cell_type": "code",
   "execution_count": 7,
   "id": "78157927",
   "metadata": {},
   "outputs": [],
   "source": [
    "# importing libraries for kmeans clustering\n",
    "from sklearn.cluster import KMeans"
   ]
  },
  {
   "cell_type": "code",
   "execution_count": 8,
   "id": "ac76cf76",
   "metadata": {},
   "outputs": [],
   "source": [
    "# finding the optimum number of cluster using elbow method"
   ]
  },
  {
   "cell_type": "code",
   "execution_count": 9,
   "id": "730a0672",
   "metadata": {},
   "outputs": [
    {
     "name": "stderr",
     "output_type": "stream",
     "text": [
      "C:\\Users\\user\\anaconda3\\lib\\site-packages\\sklearn\\cluster\\_kmeans.py:1036: UserWarning: KMeans is known to have a memory leak on Windows with MKL, when there are less chunks than available threads. You can avoid it by setting the environment variable OMP_NUM_THREADS=1.\n",
      "  warnings.warn(\n"
     ]
    },
    {
     "data": {
      "image/png": "[encoded data removed]",
      "text/plain": [
       "<Figure size 432x288 with 1 Axes>"
      ]
     },
     "metadata": {
      "needs_background": "light"
     },
     "output_type": "display_data"
    }
   ],
   "source": [
    "wcss=[]\n",
    "for i in range (1,13):\n",
    "    kmeans=KMeans(n_clusters=i,init='k-means++', random_state=42)\n",
    "    kmeans.fit(data)\n",
    "    wcss.append(kmeans.inertia_)\n",
    "plt.plot(range(1,13),wcss)\n",
    "plt.title('The Elbow Method')\n",
    "plt.xlabel('No of Clusters')\n",
    "plt.ylabel('WCSS value')\n",
    "plt.show()"
   ]
  },
  {
   "cell_type": "markdown",
   "id": "1e967be0",
   "metadata": {},
   "source": [
    "Optimum number of Cluster=2"
   ]
  },
  {
   "cell_type": "code",
   "execution_count": 10,
   "id": "b17a7aad",
   "metadata": {},
   "outputs": [],
   "source": [
    "kmeans=KMeans(n_clusters=2,init='k-means++', random_state=42)\n",
    "y_kmeans=kmeans.fit_predict(data)"
   ]
  },
  {
   "cell_type": "code",
   "execution_count": 11,
   "id": "1bd850b2",
   "metadata": {},
   "outputs": [
    {
     "data": {
      "text/plain": [
       "array([1, 1, 1, 1, 0, 1, 1, 1, 1, 1, 1, 1, 1, 1, 1, 1, 1, 1, 1, 0, 0, 0,\n",
       "       1, 1, 0, 0, 1, 1, 1, 1, 1, 1, 1, 1, 1, 1, 1, 1, 1, 0, 0, 1, 1, 0,\n",
       "       1, 1, 1, 1, 1, 1, 1, 1, 1, 1, 1, 1, 1, 1, 1, 0, 0, 0, 0, 0, 0, 0,\n",
       "       0, 0, 0, 0, 1, 0, 0, 1, 1, 0, 0, 0, 0, 0, 0, 0, 0, 0, 0, 0, 0, 0,\n",
       "       0, 0, 0, 0, 0, 0, 0, 1, 0, 0, 0, 0, 0, 0, 0, 0, 0, 0, 0, 0, 0, 0,\n",
       "       0, 0, 0, 0, 0, 0, 0, 0, 0, 0, 0, 0, 0, 0, 0, 0, 0, 0, 0, 0, 0, 0,\n",
       "       0, 0, 0, 0, 0, 0, 0, 0, 0, 0, 0, 0, 0, 0, 0, 0, 0, 0, 0, 0, 0, 0,\n",
       "       0, 0, 0, 1, 0, 0, 0, 0, 0, 0, 0, 0, 0, 0, 0, 0, 0, 0, 0, 0, 0, 0,\n",
       "       0, 0])"
      ]
     },
     "execution_count": 11,
     "metadata": {},
     "output_type": "execute_result"
    }
   ],
   "source": [
    "y_kmeans"
   ]
  },
  {
   "cell_type": "markdown",
   "id": "ea6f8f0f",
   "metadata": {},
   "source": [
    "### Silhouette Score"
   ]
  },
  {
   "cell_type": "code",
   "execution_count": 12,
   "id": "47579392",
   "metadata": {},
   "outputs": [],
   "source": [
    "#checking silhouette score\n",
    "from sklearn.metrics import silhouette_score"
   ]
  },
  {
   "cell_type": "code",
   "execution_count": 13,
   "id": "3bdc00bf",
   "metadata": {},
   "outputs": [
    {
     "name": "stdout",
     "output_type": "stream",
     "text": [
      "Sillhouette Score 0.6568536504294317\n"
     ]
    }
   ],
   "source": [
    "sil_kmeans=silhouette_score(data,y_kmeans)\n",
    "print('Sillhouette Score',sil_kmeans)"
   ]
  },
  {
   "cell_type": "markdown",
   "id": "392ad231",
   "metadata": {},
   "source": [
    "## Agglomerative Hierarchical Clustering\n",
    "### Dendrogram"
   ]
  },
  {
   "cell_type": "code",
   "execution_count": 14,
   "id": "9da7901e",
   "metadata": {},
   "outputs": [],
   "source": [
    "#importing libraries for Agglomerative Hierarchial Clustering\n",
    "import scipy.cluster.hierarchy as sch"
   ]
  },
  {
   "cell_type": "code",
   "execution_count": 15,
   "id": "b69478ab",
   "metadata": {},
   "outputs": [
    {
     "data": {
      "image/png": "[encoded data removed]",
      "text/plain": [
       "<Figure size 432x288 with 1 Axes>"
      ]
     },
     "metadata": {
      "needs_background": "light"
     },
     "output_type": "display_data"
    }
   ],
   "source": [
    "dendrogram=sch.dendrogram(sch.linkage(data, method=\"ward\"))\n",
    "plt.title('Dendrogram')\n",
    "plt.xlabel('Data Points')\n",
    "plt.ylabel('Eulicidean distance')\n",
    "plt.show()"
   ]
  },
  {
   "cell_type": "markdown",
   "id": "e77c7690",
   "metadata": {},
   "source": [
    "Optimum number of clusters=2"
   ]
  },
  {
   "cell_type": "code",
   "execution_count": 16,
   "id": "320f8772",
   "metadata": {},
   "outputs": [],
   "source": [
    "from sklearn.cluster import AgglomerativeClustering"
   ]
  },
  {
   "cell_type": "code",
   "execution_count": 17,
   "id": "177cbe20",
   "metadata": {},
   "outputs": [],
   "source": [
    "hc=AgglomerativeClustering(n_clusters=2,affinity='euclidean',linkage='ward')\n",
    "y_hc=hc.fit_predict(data)"
   ]
  },
  {
   "cell_type": "code",
   "execution_count": 18,
   "id": "e5a68f47",
   "metadata": {},
   "outputs": [
    {
     "data": {
      "text/plain": [
       "array([1, 1, 1, 1, 0, 1, 1, 1, 1, 1, 1, 1, 1, 1, 1, 1, 1, 1, 1, 0, 0, 0,\n",
       "       1, 1, 0, 0, 1, 1, 0, 1, 1, 1, 1, 1, 1, 0, 0, 1, 1, 0, 0, 1, 1, 0,\n",
       "       0, 1, 1, 1, 1, 1, 1, 1, 1, 1, 1, 1, 1, 1, 1, 0, 0, 0, 0, 0, 0, 0,\n",
       "       0, 0, 0, 0, 0, 0, 0, 1, 0, 0, 0, 0, 0, 0, 0, 0, 0, 0, 0, 0, 0, 0,\n",
       "       0, 0, 0, 0, 0, 0, 0, 1, 0, 0, 0, 0, 0, 0, 0, 0, 0, 0, 0, 0, 0, 0,\n",
       "       0, 0, 0, 0, 0, 0, 0, 0, 0, 0, 0, 0, 0, 0, 0, 0, 0, 0, 0, 0, 0, 0,\n",
       "       0, 0, 0, 0, 0, 0, 0, 0, 0, 0, 0, 0, 0, 0, 0, 0, 0, 0, 0, 0, 0, 0,\n",
       "       0, 0, 0, 0, 0, 0, 0, 0, 0, 0, 0, 0, 0, 0, 0, 0, 0, 0, 0, 0, 0, 0,\n",
       "       0, 0], dtype=int64)"
      ]
     },
     "execution_count": 18,
     "metadata": {},
     "output_type": "execute_result"
    }
   ],
   "source": [
    "y_hc"
   ]
  },
  {
   "cell_type": "markdown",
   "id": "5df6fb94",
   "metadata": {},
   "source": [
    "### Silhouette Score"
   ]
  },
  {
   "cell_type": "code",
   "execution_count": 19,
   "id": "43d710fd",
   "metadata": {},
   "outputs": [
    {
     "name": "stdout",
     "output_type": "stream",
     "text": [
      "Sillhouette Score 0.6587292996216912\n"
     ]
    }
   ],
   "source": [
    "sil_hc=silhouette_score(data,y_hc)\n",
    "print('Sillhouette Score',sil_hc)"
   ]
  },
  {
   "cell_type": "markdown",
   "id": "ed6b2e4f",
   "metadata": {},
   "source": [
    "### Normalization"
   ]
  },
  {
   "cell_type": "code",
   "execution_count": 20,
   "id": "dad88e56",
   "metadata": {},
   "outputs": [],
   "source": [
    "#import library\n",
    "from sklearn import preprocessing"
   ]
  },
  {
   "cell_type": "code",
   "execution_count": 21,
   "id": "b01faea3",
   "metadata": {},
   "outputs": [],
   "source": [
    "nor_data=preprocessing.normalize(data)\n"
   ]
  },
  {
   "cell_type": "code",
   "execution_count": 22,
   "id": "16fa8c28",
   "metadata": {},
   "outputs": [
    {
     "data": {
      "text/plain": [
       "numpy.ndarray"
      ]
     },
     "execution_count": 22,
     "metadata": {},
     "output_type": "execute_result"
    }
   ],
   "source": [
    "type(nor_data)"
   ]
  },
  {
   "cell_type": "code",
   "execution_count": 23,
   "id": "3cff8a33",
   "metadata": {},
   "outputs": [],
   "source": [
    "nor_data=pd.DataFrame(nor_data,columns=data.columns)"
   ]
  },
  {
   "cell_type": "code",
   "execution_count": 24,
   "id": "a70aea98",
   "metadata": {},
   "outputs": [
    {
     "data": {
      "text/html": [
       "<div>\n",
       "<style scoped>\n",
       "    .dataframe tbody tr th:only-of-type {\n",
       "        vertical-align: middle;\n",
       "    }\n",
       "\n",
       "    .dataframe tbody tr th {\n",
       "        vertical-align: top;\n",
       "    }\n",
       "\n",
       "    .dataframe thead th {\n",
       "        text-align: right;\n",
       "    }\n",
       "</style>\n",
       "<table border=\"1\" class=\"dataframe\">\n",
       "  <thead>\n",
       "    <tr style=\"text-align: right;\">\n",
       "      <th></th>\n",
       "      <th>Alcohol</th>\n",
       "      <th>Malic_Acid</th>\n",
       "      <th>Ash</th>\n",
       "      <th>Ash_Alcanity</th>\n",
       "      <th>Magnesium</th>\n",
       "      <th>Total_Phenols</th>\n",
       "      <th>Flavanoids</th>\n",
       "      <th>Nonflavanoid_Phenols</th>\n",
       "      <th>Proanthocyanins</th>\n",
       "      <th>Color_Intensity</th>\n",
       "      <th>Hue</th>\n",
       "      <th>OD280</th>\n",
       "      <th>Proline</th>\n",
       "    </tr>\n",
       "  </thead>\n",
       "  <tbody>\n",
       "    <tr>\n",
       "      <th>count</th>\n",
       "      <td>178.000000</td>\n",
       "      <td>178.000000</td>\n",
       "      <td>178.000000</td>\n",
       "      <td>178.000000</td>\n",
       "      <td>178.000000</td>\n",
       "      <td>178.000000</td>\n",
       "      <td>178.000000</td>\n",
       "      <td>178.000000</td>\n",
       "      <td>178.000000</td>\n",
       "      <td>178.000000</td>\n",
       "      <td>178.000000</td>\n",
       "      <td>178.000000</td>\n",
       "      <td>178.000000</td>\n",
       "    </tr>\n",
       "    <tr>\n",
       "      <th>mean</th>\n",
       "      <td>0.019950</td>\n",
       "      <td>0.003711</td>\n",
       "      <td>0.003644</td>\n",
       "      <td>0.031124</td>\n",
       "      <td>0.151541</td>\n",
       "      <td>0.003444</td>\n",
       "      <td>0.002973</td>\n",
       "      <td>0.000581</td>\n",
       "      <td>0.002396</td>\n",
       "      <td>0.007342</td>\n",
       "      <td>0.001477</td>\n",
       "      <td>0.003993</td>\n",
       "      <td>0.986018</td>\n",
       "    </tr>\n",
       "    <tr>\n",
       "      <th>std</th>\n",
       "      <td>0.007321</td>\n",
       "      <td>0.002499</td>\n",
       "      <td>0.001409</td>\n",
       "      <td>0.014671</td>\n",
       "      <td>0.054081</td>\n",
       "      <td>0.001543</td>\n",
       "      <td>0.001802</td>\n",
       "      <td>0.000327</td>\n",
       "      <td>0.001249</td>\n",
       "      <td>0.003843</td>\n",
       "      <td>0.000736</td>\n",
       "      <td>0.001979</td>\n",
       "      <td>0.010073</td>\n",
       "    </tr>\n",
       "    <tr>\n",
       "      <th>min</th>\n",
       "      <td>0.008428</td>\n",
       "      <td>0.000944</td>\n",
       "      <td>0.001473</td>\n",
       "      <td>0.007739</td>\n",
       "      <td>0.064147</td>\n",
       "      <td>0.001255</td>\n",
       "      <td>0.000637</td>\n",
       "      <td>0.000145</td>\n",
       "      <td>0.000554</td>\n",
       "      <td>0.002241</td>\n",
       "      <td>0.000579</td>\n",
       "      <td>0.001675</td>\n",
       "      <td>0.951812</td>\n",
       "    </tr>\n",
       "    <tr>\n",
       "      <th>25%</th>\n",
       "      <td>0.013548</td>\n",
       "      <td>0.001684</td>\n",
       "      <td>0.002359</td>\n",
       "      <td>0.017615</td>\n",
       "      <td>0.109775</td>\n",
       "      <td>0.002385</td>\n",
       "      <td>0.001746</td>\n",
       "      <td>0.000277</td>\n",
       "      <td>0.001515</td>\n",
       "      <td>0.004612</td>\n",
       "      <td>0.000970</td>\n",
       "      <td>0.002535</td>\n",
       "      <td>0.981687</td>\n",
       "    </tr>\n",
       "    <tr>\n",
       "      <th>50%</th>\n",
       "      <td>0.018984</td>\n",
       "      <td>0.003174</td>\n",
       "      <td>0.003468</td>\n",
       "      <td>0.030036</td>\n",
       "      <td>0.146777</td>\n",
       "      <td>0.002946</td>\n",
       "      <td>0.002721</td>\n",
       "      <td>0.000514</td>\n",
       "      <td>0.002030</td>\n",
       "      <td>0.005981</td>\n",
       "      <td>0.001232</td>\n",
       "      <td>0.003384</td>\n",
       "      <td>0.988441</td>\n",
       "    </tr>\n",
       "    <tr>\n",
       "      <th>75%</th>\n",
       "      <td>0.024783</td>\n",
       "      <td>0.004981</td>\n",
       "      <td>0.004506</td>\n",
       "      <td>0.040010</td>\n",
       "      <td>0.183082</td>\n",
       "      <td>0.003886</td>\n",
       "      <td>0.003551</td>\n",
       "      <td>0.000833</td>\n",
       "      <td>0.003040</td>\n",
       "      <td>0.008853</td>\n",
       "      <td>0.001834</td>\n",
       "      <td>0.004870</td>\n",
       "      <td>0.993564</td>\n",
       "    </tr>\n",
       "    <tr>\n",
       "      <th>max</th>\n",
       "      <td>0.041106</td>\n",
       "      <td>0.014852</td>\n",
       "      <td>0.007305</td>\n",
       "      <td>0.069703</td>\n",
       "      <td>0.297958</td>\n",
       "      <td>0.008404</td>\n",
       "      <td>0.010560</td>\n",
       "      <td>0.002008</td>\n",
       "      <td>0.007469</td>\n",
       "      <td>0.021876</td>\n",
       "      <td>0.004727</td>\n",
       "      <td>0.010858</td>\n",
       "      <td>0.997835</td>\n",
       "    </tr>\n",
       "  </tbody>\n",
       "</table>\n",
       "</div>"
      ],
      "text/plain": [
       "          Alcohol  Malic_Acid         Ash  Ash_Alcanity   Magnesium  \\\n",
       "count  178.000000  178.000000  178.000000    178.000000  178.000000   \n",
       "mean     0.019950    0.003711    0.003644      0.031124    0.151541   \n",
       "std      0.007321    0.002499    0.001409      0.014671    0.054081   \n",
       "min      0.008428    0.000944    0.001473      0.007739    0.064147   \n",
       "25%      0.013548    0.001684    0.002359      0.017615    0.109775   \n",
       "50%      0.018984    0.003174    0.003468      0.030036    0.146777   \n",
       "75%      0.024783    0.004981    0.004506      0.040010    0.183082   \n",
       "max      0.041106    0.014852    0.007305      0.069703    0.297958   \n",
       "\n",
       "       Total_Phenols  Flavanoids  Nonflavanoid_Phenols  Proanthocyanins  \\\n",
       "count     178.000000  178.000000            178.000000       178.000000   \n",
       "mean        0.003444    0.002973              0.000581         0.002396   \n",
       "std         0.001543    0.001802              0.000327         0.001249   \n",
       "min         0.001255    0.000637              0.000145         0.000554   \n",
       "25%         0.002385    0.001746              0.000277         0.001515   \n",
       "50%         0.002946    0.002721              0.000514         0.002030   \n",
       "75%         0.003886    0.003551              0.000833         0.003040   \n",
       "max         0.008404    0.010560              0.002008         0.007469   \n",
       "\n",
       "       Color_Intensity         Hue       OD280     Proline  \n",
       "count       178.000000  178.000000  178.000000  178.000000  \n",
       "mean          0.007342    0.001477    0.003993    0.986018  \n",
       "std           0.003843    0.000736    0.001979    0.010073  \n",
       "min           0.002241    0.000579    0.001675    0.951812  \n",
       "25%           0.004612    0.000970    0.002535    0.981687  \n",
       "50%           0.005981    0.001232    0.003384    0.988441  \n",
       "75%           0.008853    0.001834    0.004870    0.993564  \n",
       "max           0.021876    0.004727    0.010858    0.997835  "
      ]
     },
     "execution_count": 24,
     "metadata": {},
     "output_type": "execute_result"
    }
   ],
   "source": [
    "nor_data.describe()"
   ]
  },
  {
   "cell_type": "markdown",
   "id": "43bfd8fa",
   "metadata": {},
   "source": [
    "### Principal component analysis (PCA)"
   ]
  },
  {
   "cell_type": "code",
   "execution_count": 25,
   "id": "ceb19e14",
   "metadata": {},
   "outputs": [],
   "source": [
    "#import library\n",
    "from sklearn.decomposition import PCA"
   ]
  },
  {
   "cell_type": "code",
   "execution_count": 26,
   "id": "6b32c026",
   "metadata": {},
   "outputs": [
    {
     "data": {
      "text/plain": [
       "PCA(n_components=0.97)"
      ]
     },
     "execution_count": 26,
     "metadata": {},
     "output_type": "execute_result"
    }
   ],
   "source": [
    "pca=PCA(n_components=0.97)\n",
    "pca.fit(nor_data)"
   ]
  },
  {
   "cell_type": "code",
   "execution_count": 27,
   "id": "1d739bc2",
   "metadata": {},
   "outputs": [
    {
     "data": {
      "text/plain": [
       "(178, 1)"
      ]
     },
     "execution_count": 27,
     "metadata": {},
     "output_type": "execute_result"
    }
   ],
   "source": [
    "x_pca=pca.transform(nor_data)\n",
    "x_pca.shape"
   ]
  },
  {
   "cell_type": "code",
   "execution_count": 28,
   "id": "0d6682be",
   "metadata": {},
   "outputs": [
    {
     "data": {
      "text/plain": [
       "(178, 10)"
      ]
     },
     "execution_count": 28,
     "metadata": {},
     "output_type": "execute_result"
    }
   ],
   "source": [
    "pca1=PCA(n_components=10)\n",
    "pca1.fit(nor_data)\n",
    "x_pca1=pca1.transform(nor_data)\n",
    "x_pca1.shape"
   ]
  },
  {
   "cell_type": "markdown",
   "id": "19abb42a",
   "metadata": {},
   "source": [
    "Silhouettescore after PCA"
   ]
  },
  {
   "cell_type": "code",
   "execution_count": 29,
   "id": "306f2318",
   "metadata": {},
   "outputs": [],
   "source": [
    "kmeans=KMeans(n_clusters=2,init='k-means++',random_state=42)\n",
    "y_kmeans=kmeans.fit_predict(x_pca)"
   ]
  },
  {
   "cell_type": "code",
   "execution_count": 30,
   "id": "283f050a",
   "metadata": {},
   "outputs": [],
   "source": [
    "#silhouette score after PCA\n",
    "sil_kmeans=silhouette_score(x_pca,y_kmeans)"
   ]
  },
  {
   "cell_type": "code",
   "execution_count": 31,
   "id": "4e5aad3e",
   "metadata": {},
   "outputs": [
    {
     "data": {
      "text/plain": [
       "0.5657149942211519"
      ]
     },
     "execution_count": 31,
     "metadata": {},
     "output_type": "execute_result"
    }
   ],
   "source": [
    "sil_kmeans"
   ]
  },
  {
   "cell_type": "code",
   "execution_count": 32,
   "id": "c76a49df",
   "metadata": {},
   "outputs": [],
   "source": [
    "hc=AgglomerativeClustering(n_clusters=2,affinity='euclidean',linkage='ward')\n",
    "y_hc=hc.fit_predict(x_pca1)"
   ]
  },
  {
   "cell_type": "code",
   "execution_count": 33,
   "id": "970d84b9",
   "metadata": {},
   "outputs": [],
   "source": [
    "sil_hc=silhouette_score(x_pca1,y_hc)"
   ]
  },
  {
   "cell_type": "code",
   "execution_count": 34,
   "id": "865f4697",
   "metadata": {},
   "outputs": [
    {
     "data": {
      "text/plain": [
       "0.5366380023906002"
      ]
     },
     "execution_count": 34,
     "metadata": {},
     "output_type": "execute_result"
    }
   ],
   "source": [
    "sil_hc"
   ]
  },
  {
   "cell_type": "markdown",
   "id": "bc27c09a",
   "metadata": {},
   "source": [
    "### DBSCAN Algorithm Clustering"
   ]
  },
  {
   "cell_type": "code",
   "execution_count": 35,
   "id": "67472ff6",
   "metadata": {},
   "outputs": [],
   "source": [
    "# importing the library\n",
    "from sklearn.cluster import DBSCAN"
   ]
  },
  {
   "cell_type": "code",
   "execution_count": 36,
   "id": "a4575c2a",
   "metadata": {},
   "outputs": [],
   "source": [
    "# importing the library\n",
    "from sklearn.neighbors import NearestNeighbors \n",
    "# creating an object of the NearestNeighbors class\n",
    "neighbors = NearestNeighbors(n_neighbors=2) \n",
    "# fitting the data to the object\n",
    "nbrs=neighbors.fit(data) \n",
    "# finding the nearest neighbours\n",
    "distances,indices=nbrs.kneighbors(data) # finding the nearest neighbours"
   ]
  },
  {
   "cell_type": "code",
   "execution_count": 37,
   "id": "7812cca7",
   "metadata": {},
   "outputs": [
    {
     "data": {
      "image/png": "[encoded data removed]",
      "text/plain": [
       "<Figure size 360x216 with 1 Axes>"
      ]
     },
     "metadata": {
      "needs_background": "light"
     },
     "output_type": "display_data"
    }
   ],
   "source": [
    "# sorting the distances\n",
    "distances = np.sort(distances, axis = 0) \n",
    "# taking the second column of the sorted distances\n",
    "distances = distances[:,:] \n",
    "# setting the figure size\n",
    "plt.rcParams['figure.figsize'] = (5,3) \n",
    "# plotting the distances\n",
    "plt.plot(distances) \n",
    "plt.show()"
   ]
  },
  {
   "cell_type": "markdown",
   "id": "3a71af69",
   "metadata": {},
   "source": [
    "From the above plot, we note the maximum curvature of the curve is about 60, and thus we picked our Eps as 60\n",
    "\n",
    "The min sample per cluster as 2* dimension=2* 13=26"
   ]
  },
  {
   "cell_type": "code",
   "execution_count": 38,
   "id": "f2f26b91",
   "metadata": {},
   "outputs": [],
   "source": [
    "dbscan=DBSCAN(eps=60,min_samples=26)"
   ]
  },
  {
   "cell_type": "code",
   "execution_count": 39,
   "id": "00bfc94a",
   "metadata": {},
   "outputs": [],
   "source": [
    "# fitting the model\n",
    "y_db=dbscan.fit_predict(data)"
   ]
  },
  {
   "cell_type": "code",
   "execution_count": 40,
   "id": "e2ee3fe9",
   "metadata": {},
   "outputs": [
    {
     "data": {
      "text/plain": [
       "array([-1,  0], dtype=int64)"
      ]
     },
     "execution_count": 40,
     "metadata": {},
     "output_type": "execute_result"
    }
   ],
   "source": [
    "np.unique(y_db)"
   ]
  },
  {
   "cell_type": "code",
   "execution_count": 41,
   "id": "7c0fb8b8",
   "metadata": {},
   "outputs": [],
   "source": [
    "#silhouette score\n",
    "sil_db=silhouette_score(data,y_db)"
   ]
  },
  {
   "cell_type": "code",
   "execution_count": 42,
   "id": "e067c2b8",
   "metadata": {},
   "outputs": [
    {
     "data": {
      "text/plain": [
       "0.5751172188022147"
      ]
     },
     "execution_count": 42,
     "metadata": {},
     "output_type": "execute_result"
    }
   ],
   "source": [
    "sil_db"
   ]
  },
  {
   "cell_type": "markdown",
   "id": "b1a90c0a",
   "metadata": {},
   "source": [
    "#### before PCA kmeans clustering silhouette score=0.6568536504294317 and after PCA=0.5657149942211519"
   ]
  },
  {
   "cell_type": "markdown",
   "id": "8a1a5b2d",
   "metadata": {},
   "source": [
    "#### before PCA Agglomerative Clustering silhouette score=0.6587292996216912 and after PCA=0.5366380023906002\n",
    "\n",
    "#### DBSCAN Algorithm Clustering silhouette score=0.5751172188022147"
   ]
  },
  {
   "cell_type": "code",
   "execution_count": null,
   "id": "981c19c1",
   "metadata": {},
   "outputs": [],
   "source": []
  }
 ],
 "metadata": {
  "kernelspec": {
   "display_name": "Python 3 (ipykernel)",
   "language": "python",
   "name": "python3"
  },
  "language_info": {
   "codemirror_mode": {
    "name": "ipython",
    "version": 3
   },
   "file_extension": ".py",
   "mimetype": "text/x-python",
   "name": "python",
   "nbconvert_exporter": "python",
   "pygments_lexer": "ipython3",
   "version": "3.9.12"
  }
 },
 "nbformat": 4,
 "nbformat_minor": 5
}
